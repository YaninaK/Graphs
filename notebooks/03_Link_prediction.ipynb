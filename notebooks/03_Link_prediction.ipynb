{
  "nbformat": 4,
  "nbformat_minor": 0,
  "metadata": {
    "colab": {
      "provenance": [],
      "toc_visible": true,
      "gpuType": "T4"
    },
    "kernelspec": {
      "name": "python3",
      "display_name": "Python 3"
    },
    "language_info": {
      "name": "python"
    },
    "accelerator": "GPU"
  },
  "cells": [
    {
      "cell_type": "markdown",
      "source": [
        "# Link prediction\n",
        "\n",
        "data: http://snap.stanford.edu/pathways/bio-pathways-network.tar.gz"
      ],
      "metadata": {
        "id": "UyGvRtIT8fRI"
      }
    },
    {
      "cell_type": "code",
      "source": [
        "!git clone https://github.com/stellargraph/stellargraph.git -q"
      ],
      "metadata": {
        "id": "rkans5gsIBhv"
      },
      "execution_count": 1,
      "outputs": []
    },
    {
      "cell_type": "code",
      "source": [
        "import sys\n",
        "sys.path.append('/content/stellargraph')"
      ],
      "metadata": {
        "id": "PUOBPZTEII9m"
      },
      "execution_count": 2,
      "outputs": []
    },
    {
      "cell_type": "code",
      "source": [
        "import numpy as np\n",
        "import pandas as pd\n",
        "import networkx as nx\n",
        "from tqdm import tqdm\n",
        "import matplotlib.pyplot as plt\n",
        "from stellargraph import StellarGraph\n",
        "from stellargraph.data import BiasedRandomWalk\n",
        "\n",
        "from sklearn.model_selection import train_test_split\n",
        "from gensim.models import Word2Vec\n",
        "from lightgbm import LGBMClassifier\n",
        "from sklearn.metrics import accuracy_score, roc_auc_score, f1_score, matthews_corrcoef"
      ],
      "metadata": {
        "id": "kDCX2VW7Ihig"
      },
      "execution_count": 3,
      "outputs": []
    },
    {
      "cell_type": "code",
      "source": [
        "from google.colab import drive\n",
        "drive.mount('/content/drive')"
      ],
      "metadata": {
        "colab": {
          "base_uri": "https://localhost:8080/"
        },
        "id": "HW0SNX61Glue",
        "outputId": "59996add-9e9b-436f-e88c-4dd555987063"
      },
      "execution_count": 4,
      "outputs": [
        {
          "output_type": "stream",
          "name": "stdout",
          "text": [
            "Mounted at /content/drive\n"
          ]
        }
      ]
    },
    {
      "cell_type": "code",
      "source": [
        "!tar -xzvf \"/content/drive/MyDrive/OTUS_ML_advanced/07_Graphs/data/bio-pathways-network.tar.gz\""
      ],
      "metadata": {
        "colab": {
          "base_uri": "https://localhost:8080/"
        },
        "id": "TkMQF-P3Hisc",
        "outputId": "85bb02de-30de-4798-baeb-ad95de7dfbfa"
      },
      "execution_count": 5,
      "outputs": [
        {
          "output_type": "stream",
          "name": "stdout",
          "text": [
            "./._bio-pathways-network.csv\n",
            "bio-pathways-network.csv\n"
          ]
        }
      ]
    },
    {
      "cell_type": "markdown",
      "source": [
        "## 1. Загружаем граф"
      ],
      "metadata": {
        "id": "tLav0v98w8l6"
      }
    },
    {
      "cell_type": "code",
      "source": [
        "edges = pd.read_csv('/content/bio-pathways-network.csv')\n",
        "\n",
        "print(f'edges.shape = {edges.shape}\\n')\n",
        "edges.head(2)"
      ],
      "metadata": {
        "colab": {
          "base_uri": "https://localhost:8080/",
          "height": 147
        },
        "id": "7T1QKFIk-vXi",
        "outputId": "3a81e368-d481-4bc8-f586-a697dac51594"
      },
      "execution_count": 6,
      "outputs": [
        {
          "output_type": "stream",
          "name": "stdout",
          "text": [
            "edges.shape = (342353, 2)\n",
            "\n"
          ]
        },
        {
          "output_type": "execute_result",
          "data": {
            "text/plain": [
              "   Gene ID 1  Gene ID 2\n",
              "0       1394       2778\n",
              "1       6331      17999"
            ],
            "text/html": [
              "\n",
              "\n",
              "  <div id=\"df-da135874-818a-4140-aba2-b353d1dcc87c\">\n",
              "    <div class=\"colab-df-container\">\n",
              "      <div>\n",
              "<style scoped>\n",
              "    .dataframe tbody tr th:only-of-type {\n",
              "        vertical-align: middle;\n",
              "    }\n",
              "\n",
              "    .dataframe tbody tr th {\n",
              "        vertical-align: top;\n",
              "    }\n",
              "\n",
              "    .dataframe thead th {\n",
              "        text-align: right;\n",
              "    }\n",
              "</style>\n",
              "<table border=\"1\" class=\"dataframe\">\n",
              "  <thead>\n",
              "    <tr style=\"text-align: right;\">\n",
              "      <th></th>\n",
              "      <th>Gene ID 1</th>\n",
              "      <th>Gene ID 2</th>\n",
              "    </tr>\n",
              "  </thead>\n",
              "  <tbody>\n",
              "    <tr>\n",
              "      <th>0</th>\n",
              "      <td>1394</td>\n",
              "      <td>2778</td>\n",
              "    </tr>\n",
              "    <tr>\n",
              "      <th>1</th>\n",
              "      <td>6331</td>\n",
              "      <td>17999</td>\n",
              "    </tr>\n",
              "  </tbody>\n",
              "</table>\n",
              "</div>\n",
              "      <button class=\"colab-df-convert\" onclick=\"convertToInteractive('df-da135874-818a-4140-aba2-b353d1dcc87c')\"\n",
              "              title=\"Convert this dataframe to an interactive table.\"\n",
              "              style=\"display:none;\">\n",
              "\n",
              "  <svg xmlns=\"http://www.w3.org/2000/svg\" height=\"24px\"viewBox=\"0 0 24 24\"\n",
              "       width=\"24px\">\n",
              "    <path d=\"M0 0h24v24H0V0z\" fill=\"none\"/>\n",
              "    <path d=\"M18.56 5.44l.94 2.06.94-2.06 2.06-.94-2.06-.94-.94-2.06-.94 2.06-2.06.94zm-11 1L8.5 8.5l.94-2.06 2.06-.94-2.06-.94L8.5 2.5l-.94 2.06-2.06.94zm10 10l.94 2.06.94-2.06 2.06-.94-2.06-.94-.94-2.06-.94 2.06-2.06.94z\"/><path d=\"M17.41 7.96l-1.37-1.37c-.4-.4-.92-.59-1.43-.59-.52 0-1.04.2-1.43.59L10.3 9.45l-7.72 7.72c-.78.78-.78 2.05 0 2.83L4 21.41c.39.39.9.59 1.41.59.51 0 1.02-.2 1.41-.59l7.78-7.78 2.81-2.81c.8-.78.8-2.07 0-2.86zM5.41 20L4 18.59l7.72-7.72 1.47 1.35L5.41 20z\"/>\n",
              "  </svg>\n",
              "      </button>\n",
              "\n",
              "\n",
              "\n",
              "    <div id=\"df-fa01acbb-70a9-4b05-87f6-a18a0a9bed2b\">\n",
              "      <button class=\"colab-df-quickchart\" onclick=\"quickchart('df-fa01acbb-70a9-4b05-87f6-a18a0a9bed2b')\"\n",
              "              title=\"Suggest charts.\"\n",
              "              style=\"display:none;\">\n",
              "\n",
              "<svg xmlns=\"http://www.w3.org/2000/svg\" height=\"24px\"viewBox=\"0 0 24 24\"\n",
              "     width=\"24px\">\n",
              "    <g>\n",
              "        <path d=\"M19 3H5c-1.1 0-2 .9-2 2v14c0 1.1.9 2 2 2h14c1.1 0 2-.9 2-2V5c0-1.1-.9-2-2-2zM9 17H7v-7h2v7zm4 0h-2V7h2v10zm4 0h-2v-4h2v4z\"/>\n",
              "    </g>\n",
              "</svg>\n",
              "      </button>\n",
              "    </div>\n",
              "\n",
              "<style>\n",
              "  .colab-df-quickchart {\n",
              "    background-color: #E8F0FE;\n",
              "    border: none;\n",
              "    border-radius: 50%;\n",
              "    cursor: pointer;\n",
              "    display: none;\n",
              "    fill: #1967D2;\n",
              "    height: 32px;\n",
              "    padding: 0 0 0 0;\n",
              "    width: 32px;\n",
              "  }\n",
              "\n",
              "  .colab-df-quickchart:hover {\n",
              "    background-color: #E2EBFA;\n",
              "    box-shadow: 0px 1px 2px rgba(60, 64, 67, 0.3), 0px 1px 3px 1px rgba(60, 64, 67, 0.15);\n",
              "    fill: #174EA6;\n",
              "  }\n",
              "\n",
              "  [theme=dark] .colab-df-quickchart {\n",
              "    background-color: #3B4455;\n",
              "    fill: #D2E3FC;\n",
              "  }\n",
              "\n",
              "  [theme=dark] .colab-df-quickchart:hover {\n",
              "    background-color: #434B5C;\n",
              "    box-shadow: 0px 1px 3px 1px rgba(0, 0, 0, 0.15);\n",
              "    filter: drop-shadow(0px 1px 2px rgba(0, 0, 0, 0.3));\n",
              "    fill: #FFFFFF;\n",
              "  }\n",
              "</style>\n",
              "\n",
              "    <script>\n",
              "      async function quickchart(key) {\n",
              "        const containerElement = document.querySelector('#' + key);\n",
              "        const charts = await google.colab.kernel.invokeFunction(\n",
              "            'suggestCharts', [key], {});\n",
              "      }\n",
              "    </script>\n",
              "\n",
              "      <script>\n",
              "\n",
              "function displayQuickchartButton(domScope) {\n",
              "  let quickchartButtonEl =\n",
              "    domScope.querySelector('#df-fa01acbb-70a9-4b05-87f6-a18a0a9bed2b button.colab-df-quickchart');\n",
              "  quickchartButtonEl.style.display =\n",
              "    google.colab.kernel.accessAllowed ? 'block' : 'none';\n",
              "}\n",
              "\n",
              "        displayQuickchartButton(document);\n",
              "      </script>\n",
              "      <style>\n",
              "    .colab-df-container {\n",
              "      display:flex;\n",
              "      flex-wrap:wrap;\n",
              "      gap: 12px;\n",
              "    }\n",
              "\n",
              "    .colab-df-convert {\n",
              "      background-color: #E8F0FE;\n",
              "      border: none;\n",
              "      border-radius: 50%;\n",
              "      cursor: pointer;\n",
              "      display: none;\n",
              "      fill: #1967D2;\n",
              "      height: 32px;\n",
              "      padding: 0 0 0 0;\n",
              "      width: 32px;\n",
              "    }\n",
              "\n",
              "    .colab-df-convert:hover {\n",
              "      background-color: #E2EBFA;\n",
              "      box-shadow: 0px 1px 2px rgba(60, 64, 67, 0.3), 0px 1px 3px 1px rgba(60, 64, 67, 0.15);\n",
              "      fill: #174EA6;\n",
              "    }\n",
              "\n",
              "    [theme=dark] .colab-df-convert {\n",
              "      background-color: #3B4455;\n",
              "      fill: #D2E3FC;\n",
              "    }\n",
              "\n",
              "    [theme=dark] .colab-df-convert:hover {\n",
              "      background-color: #434B5C;\n",
              "      box-shadow: 0px 1px 3px 1px rgba(0, 0, 0, 0.15);\n",
              "      filter: drop-shadow(0px 1px 2px rgba(0, 0, 0, 0.3));\n",
              "      fill: #FFFFFF;\n",
              "    }\n",
              "  </style>\n",
              "\n",
              "      <script>\n",
              "        const buttonEl =\n",
              "          document.querySelector('#df-da135874-818a-4140-aba2-b353d1dcc87c button.colab-df-convert');\n",
              "        buttonEl.style.display =\n",
              "          google.colab.kernel.accessAllowed ? 'block' : 'none';\n",
              "\n",
              "        async function convertToInteractive(key) {\n",
              "          const element = document.querySelector('#df-da135874-818a-4140-aba2-b353d1dcc87c');\n",
              "          const dataTable =\n",
              "            await google.colab.kernel.invokeFunction('convertToInteractive',\n",
              "                                                     [key], {});\n",
              "          if (!dataTable) return;\n",
              "\n",
              "          const docLinkHtml = 'Like what you see? Visit the ' +\n",
              "            '<a target=\"_blank\" href=https://colab.research.google.com/notebooks/data_table.ipynb>data table notebook</a>'\n",
              "            + ' to learn more about interactive tables.';\n",
              "          element.innerHTML = '';\n",
              "          dataTable['output_type'] = 'display_data';\n",
              "          await google.colab.output.renderOutput(dataTable, element);\n",
              "          const docLink = document.createElement('div');\n",
              "          docLink.innerHTML = docLinkHtml;\n",
              "          element.appendChild(docLink);\n",
              "        }\n",
              "      </script>\n",
              "    </div>\n",
              "  </div>\n"
            ]
          },
          "metadata": {},
          "execution_count": 6
        }
      ]
    },
    {
      "cell_type": "markdown",
      "source": [
        "## 2. Создаем networkx граф из списка связей"
      ],
      "metadata": {
        "id": "kqcvps1Wzlke"
      }
    },
    {
      "cell_type": "code",
      "source": [
        "G = nx.from_pandas_edgelist(edges, \"Gene ID 1\", \"Gene ID 2\", create_using=nx.Graph())\n",
        "G.number_of_nodes()"
      ],
      "metadata": {
        "colab": {
          "base_uri": "https://localhost:8080/"
        },
        "id": "YWgQJ8qWJXtV",
        "outputId": "9d82674e-51d7-4347-ad60-fb4120006ef8"
      },
      "execution_count": 7,
      "outputs": [
        {
          "output_type": "execute_result",
          "data": {
            "text/plain": [
              "21557"
            ]
          },
          "metadata": {},
          "execution_count": 7
        }
      ]
    },
    {
      "cell_type": "markdown",
      "source": [
        "## 3. Разметка данных для link prediction\n",
        "\n",
        "Собираем тренировочный и тестовый наборы, в них должны быть истинно позитивные и истинно негативные ссылки.\n",
        "\n",
        "* Истинно позитивные - те, что заведомо присутствуют в исходном графе, истинно позитивные в тестовой выборке мы удалим из графа, чтобы получить хорошую тренировочную выборку;\n",
        "* Истинно негативные - те, что заведомо отсутствуют в исходном графе. Их мы наберем из матрицы смежности."
      ],
      "metadata": {
        "id": "TgpS0TqG0B5w"
      }
    },
    {
      "cell_type": "markdown",
      "source": [
        "### 3.1. Матрица смежности"
      ],
      "metadata": {
        "id": "a4sAr3B91_74"
      }
    },
    {
      "cell_type": "code",
      "source": [
        "nodes = np.array(list(G.nodes))\n",
        "adj_G = nx.to_numpy_array(G, nodelist=nodes)\n",
        "adj_G.shape"
      ],
      "metadata": {
        "colab": {
          "base_uri": "https://localhost:8080/"
        },
        "id": "TfChbLGzK8wZ",
        "outputId": "b5f4756d-c8b3-4541-fc8f-f01ee08e7d01"
      },
      "execution_count": 8,
      "outputs": [
        {
          "output_type": "execute_result",
          "data": {
            "text/plain": [
              "(21557, 21557)"
            ]
          },
          "metadata": {},
          "execution_count": 8
        }
      ]
    },
    {
      "cell_type": "markdown",
      "source": [
        "### 3.2. Словарь несвязанных вершин"
      ],
      "metadata": {
        "id": "5d5zd9Cx3BFu"
      }
    },
    {
      "cell_type": "markdown",
      "source": [
        "Для каждого столбца в матрице смежности:    \n",
        "* для каждой строки в матрице смежности:    \n",
        "   * если связи между столбцом и строкой нет, то добавить соответствующую пару в словарь\n",
        "   * остановиться, если количество больше либо равно 100"
      ],
      "metadata": {
        "id": "Bw1Q2qXI2UxE"
      }
    },
    {
      "cell_type": "code",
      "source": [
        "unconnected = {\"G1\": [], \"G2\": []}\n",
        "for i in tqdm(np.arange(adj_G.shape[0])):\n",
        "  for j in np.arange(i + 1, adj_G.shape[0]):\n",
        "    if adj_G[i, j] == 0:\n",
        "      unconnected[\"G1\"].append(nodes[i])\n",
        "      unconnected[\"G2\"].append(nodes[j])\n",
        "      if len(unconnected[\"G1\"]) >= 100:\n",
        "        break\n",
        "unconnected = pd.DataFrame(unconnected)"
      ],
      "metadata": {
        "colab": {
          "base_uri": "https://localhost:8080/"
        },
        "id": "azShrXfBKQ59",
        "outputId": "6a312fa8-3e64-4b8d-b014-5f3a7c3b569a"
      },
      "execution_count": 9,
      "outputs": [
        {
          "output_type": "stream",
          "name": "stderr",
          "text": [
            "100%|██████████| 21557/21557 [00:00<00:00, 59973.95it/s]\n"
          ]
        }
      ]
    },
    {
      "cell_type": "code",
      "source": [
        "unconnected.shape"
      ],
      "metadata": {
        "colab": {
          "base_uri": "https://localhost:8080/"
        },
        "id": "YvRuNFFkLidA",
        "outputId": "18b4a9d0-82ac-4eda-8cf3-44fb0c76370b"
      },
      "execution_count": 10,
      "outputs": [
        {
          "output_type": "execute_result",
          "data": {
            "text/plain": [
              "(21655, 2)"
            ]
          },
          "metadata": {},
          "execution_count": 10
        }
      ]
    },
    {
      "cell_type": "markdown",
      "source": [
        "### 3.3. Граф для обучения модели"
      ],
      "metadata": {
        "id": "xcofbCH_5y1Q"
      }
    },
    {
      "cell_type": "markdown",
      "source": [
        "Истинно негативные - случайная выборка из несвязанных узлов:"
      ],
      "metadata": {
        "id": "CucsyJHj2hr4"
      }
    },
    {
      "cell_type": "code",
      "source": [
        "n = unconnected.shape[0]\n",
        "true_zero = unconnected.iloc[np.random.choice(np.arange(n), n, replace=False)]"
      ],
      "metadata": {
        "id": "n84x09B5L02l"
      },
      "execution_count": 11,
      "outputs": []
    },
    {
      "cell_type": "markdown",
      "source": [
        "Истинно позитивные - случайная выборка из списка связей:"
      ],
      "metadata": {
        "id": "ZTPNMULn25NM"
      }
    },
    {
      "cell_type": "code",
      "source": [
        "test_size = 100\n",
        "true_zero_train_ix, true_zero_test_ix = train_test_split(np.arange(true_zero.shape[0]), test_size=test_size)\n",
        "true_one_train_ix, true_one_test_ix = train_test_split(np.arange(edges.shape[0]), test_size=test_size)"
      ],
      "metadata": {
        "id": "pHxoLykIL2Tz"
      },
      "execution_count": 12,
      "outputs": []
    },
    {
      "cell_type": "markdown",
      "source": [
        "Создаём граф без истинно позитивных, попавших в тестовую выборку:"
      ],
      "metadata": {
        "id": "DNUJwdVc3Xwx"
      }
    },
    {
      "cell_type": "code",
      "source": [
        "G_no_one = nx.from_pandas_edgelist(edges.iloc[true_one_train_ix], \"Gene ID 1\", \"Gene ID 2\", create_using=nx.Graph())"
      ],
      "metadata": {
        "id": "ERNtI4AmMEy4"
      },
      "execution_count": 13,
      "outputs": []
    },
    {
      "cell_type": "markdown",
      "source": [
        "## 4. Эмбеддинги на графах\n",
        "\n",
        "Конвертируем граф в формат StellarGraph:"
      ],
      "metadata": {
        "id": "2vrvcI983vq2"
      }
    },
    {
      "cell_type": "code",
      "source": [
        "G_no_one_st = StellarGraph.from_networkx(G_no_one)"
      ],
      "metadata": {
        "id": "hBqFl6MGNN3X"
      },
      "execution_count": 14,
      "outputs": []
    },
    {
      "cell_type": "markdown",
      "source": [
        "Пробегаемся случайным блужданием по графу."
      ],
      "metadata": {
        "id": "QKBRA0j739Ni"
      }
    },
    {
      "cell_type": "code",
      "source": [
        "rw = BiasedRandomWalk(G_no_one_st)\n",
        "\n",
        "walks = rw.run(nodes=list(G_no_one_st.nodes()), length=20, n=5, p=0.4)\n",
        "len(walks)"
      ],
      "metadata": {
        "colab": {
          "base_uri": "https://localhost:8080/"
        },
        "id": "03LZWxUWNYtu",
        "outputId": "cf2db9f4-7759-47b0-871a-0cca975afb57"
      },
      "execution_count": 15,
      "outputs": [
        {
          "output_type": "execute_result",
          "data": {
            "text/plain": [
              "107780"
            ]
          },
          "metadata": {},
          "execution_count": 15
        }
      ]
    },
    {
      "cell_type": "code",
      "source": [
        "str_walks = [[str(a) for a in b] for b in walks]\n",
        "\n",
        "for sw in str_walks[:10]:\n",
        "    print(sw)"
      ],
      "metadata": {
        "colab": {
          "base_uri": "https://localhost:8080/"
        },
        "id": "ReznjYDQNe3Q",
        "outputId": "01828a61-ac37-4fdf-e9d3-c2c6b6a29348"
      },
      "execution_count": 16,
      "outputs": [
        {
          "output_type": "stream",
          "name": "stdout",
          "text": [
            "['10902', '54556', '6627', '24148', '11198', '79598', '230967', '5108', '57587', '66489', '9669', '64210', '23385', '682', '9416', '9343', '267010', '23020', '155871', '55299']\n",
            "['10902', '7465', '10902', '1871', '7528', '4149', '89874', '23528', '147746', '23528', '10562', '64216', '708', '26292', '54726', '7846', '3002', '10728', '54984', '4869']\n",
            "['10902', '10761', '55578', '57520', '6668', '23390', '84905', '2885', '3315', '10075', '4678', '3020', '7090', '27023', '55157', '668', '81608', '6449', '10952', '6261']\n",
            "['10902', '347918', '23506', '57685', '23291', '6651', '7307', '4076', '9513', '1660', '6206', '8664', '283385', '150483', '84708', '23582', '3725', '51360', '3725', '2516']\n",
            "['10902', '4149', '6908', '10370', '4087', '26953', '3308', '11196', '7328', '84959', '3065', '54822', '21853', '54822', '21853', '54962', '8914', '100144435', '8914', '18626']\n",
            "['57088', '26122', '10933', '5931', '8819', '6872', '1457', '51138', '7534', '10921', '81669', '10544', '2149', '5340', '10549', '10878', '10549', '25898', '55544', '25898']\n",
            "['57088', '9404', '57088', '115265', '55346', '5080', '116540', '6876', '5578', '2931', '5581', '118', '667', '57670', '200728', '2036', '351', '5264', '5191', '7090']\n",
            "['57088', '9319', '23435', '25940', '2664', '55726', '81556', '4174', '5564', '6767', '55027', '1832', '5520', '23310', '163183', '9917', '163183', '112', '5158', '112']\n",
            "['57088', '7450', '4982', '7450', '9601', '2885', '5725', '80775', '90480', '52717', '4751', '388', '23603', '26554', '50813', '22919', '6733', '221037', '9656', '10399']\n",
            "['57088', '6233', '6204', '9349', '8737', '8738', '8737', '71', '8737', '203068', '12469', '114799', '12469', '54499', '5518', '23141', '7415', '9230', '91373', '9948']\n"
          ]
        }
      ]
    },
    {
      "cell_type": "markdown",
      "source": [
        "Обучаем Word2Vec:"
      ],
      "metadata": {
        "id": "pxCplXEz4Epl"
      }
    },
    {
      "cell_type": "code",
      "source": [
        "model = Word2Vec(str_walks, vector_size=100)"
      ],
      "metadata": {
        "id": "2f1OdHPZNnla"
      },
      "execution_count": 17,
      "outputs": []
    },
    {
      "cell_type": "code",
      "source": [
        "model.wv[str(nodes[0])]"
      ],
      "metadata": {
        "colab": {
          "base_uri": "https://localhost:8080/"
        },
        "id": "_bNiAPZNN48I",
        "outputId": "4d95c2cf-647c-42da-a9ba-3c49a08f6f6e"
      },
      "execution_count": 18,
      "outputs": [
        {
          "output_type": "execute_result",
          "data": {
            "text/plain": [
              "array([ 0.01679301,  0.1824894 ,  0.16080186,  0.22039254,  0.08176728,\n",
              "       -0.12929738, -0.06809992,  0.7717444 , -0.368339  , -0.33294696,\n",
              "       -0.3841941 , -0.13527963, -0.20262808,  0.37163085,  0.08271859,\n",
              "        0.06962608, -0.5277362 , -0.3074973 , -0.04025541, -0.5814117 ,\n",
              "        0.4396745 ,  0.2943754 ,  0.34357446,  0.28917012,  0.17560579,\n",
              "        0.13474537, -0.18014222, -0.26098353, -0.23761447, -0.13788566,\n",
              "        0.03749861, -0.05933555, -0.31201684, -0.45920298, -0.08447216,\n",
              "        0.0009327 ,  0.44944993, -0.15713733, -0.04288895, -0.8997407 ,\n",
              "       -0.25492606, -0.37254724, -0.18402913,  0.48480472,  0.43631974,\n",
              "        0.32088706, -0.62002057, -0.01084175,  0.34936425,  0.3388544 ,\n",
              "       -0.23595574, -0.50294477,  0.01568941, -0.7198748 , -0.4174407 ,\n",
              "       -0.13631912, -0.22105783, -0.78161514, -0.57239366, -0.00161625,\n",
              "        0.36957917,  0.56790864, -0.06096058,  0.00950764, -0.0748058 ,\n",
              "        0.5407277 ,  0.24942252,  0.5843835 ,  0.08662704,  0.15620163,\n",
              "        0.1918666 ,  0.68572056,  0.02364896, -0.19449072,  0.38549888,\n",
              "        0.14763829,  0.3437761 ,  0.11333988, -0.22430198, -0.55743396,\n",
              "        0.2903783 , -0.74158865, -0.33073297, -0.01772873, -0.08072031,\n",
              "        0.22936381, -0.28020805, -0.17973392, -0.06554583,  0.22560187,\n",
              "        0.42417377,  0.1272458 ,  0.5179715 ,  0.11175318,  0.5233497 ,\n",
              "        0.48171553, -0.24837698, -0.4075825 ,  0.10195134,  0.28304887],\n",
              "      dtype=float32)"
            ]
          },
          "metadata": {},
          "execution_count": 18
        }
      ]
    },
    {
      "cell_type": "code",
      "source": [
        "print(model.wv)"
      ],
      "metadata": {
        "colab": {
          "base_uri": "https://localhost:8080/"
        },
        "id": "Uncy3SuEN7kc",
        "outputId": "b61791a0-f301-4f2b-9fdf-fbe06b63850f"
      },
      "execution_count": 19,
      "outputs": [
        {
          "output_type": "stream",
          "name": "stdout",
          "text": [
            "KeyedVectors<vector_size=100, 21556 keys>\n"
          ]
        }
      ]
    },
    {
      "cell_type": "markdown",
      "source": [
        "## 5. Link prediction\n",
        "\n",
        "Обучим следующую модель:    \n",
        "* Основа - LGBMClassifier   \n",
        "* Входные данные - вектор из 200 элементов:\n",
        "    * 1-100 -- эмбеддинг первого узла\n",
        "    * 101-200 -- эмбеддинг второго узла\n",
        "* Выходные данные - есть ссылка (1) и нет ссылки (0)\n",
        "* Оцениваем метриками для бинарной классификации."
      ],
      "metadata": {
        "id": "lQMGysZg4QT-"
      }
    },
    {
      "cell_type": "markdown",
      "source": [
        "### 5.1. Формируем обучающий и тестовый датасет"
      ],
      "metadata": {
        "id": "XVdEycFaPc2b"
      }
    },
    {
      "cell_type": "markdown",
      "source": [
        "#### 5.1.1 Истинно негативный набор ссылок"
      ],
      "metadata": {
        "id": "5XnpKgOPOaVx"
      }
    },
    {
      "cell_type": "code",
      "source": [
        "no_one_nodes = list(G_no_one_st.nodes())"
      ],
      "metadata": {
        "id": "4HYYL6akOMHN"
      },
      "execution_count": 20,
      "outputs": []
    },
    {
      "cell_type": "code",
      "source": [
        "filter_b_0 = [\n",
        "    (true_zero.iloc[a][\"G1\"] in no_one_nodes) and (true_zero.iloc[a][\"G2\"] in no_one_nodes)\n",
        "    for a in np.arange(true_zero.shape[0])\n",
        "]\n",
        "true_zero = true_zero[filter_b_0]"
      ],
      "metadata": {
        "id": "ZQfJ2MjRSBON"
      },
      "execution_count": 21,
      "outputs": []
    },
    {
      "cell_type": "markdown",
      "source": [
        "Сначала разбираемся с истинно негативным набором ссылок:   \n",
        "* собираем векторы для первого гена\n",
        "* собираем векторы для второго гена\n",
        "* объединяем их, чтобы получить матрицу размерности (N, 100)"
      ],
      "metadata": {
        "id": "4BPxNpGl5BC7"
      }
    },
    {
      "cell_type": "code",
      "source": [
        "G1_0 = np.stack([model.wv[str(true_zero.iloc[a][\"G1\"])] for a in np.arange(true_zero.shape[0])])\n",
        "G2_0 = np.stack([model.wv[str(true_zero.iloc[a][\"G2\"])] for a in np.arange(true_zero.shape[0])])\n",
        "G1G2_0 = np.concatenate([G1_0, G2_0], 1)\n",
        "\n",
        "G1G2_0.shape"
      ],
      "metadata": {
        "colab": {
          "base_uri": "https://localhost:8080/"
        },
        "id": "ixBcbribVq2R",
        "outputId": "de6e0c76-db0a-462e-ef78-45960d151468"
      },
      "execution_count": 22,
      "outputs": [
        {
          "output_type": "execute_result",
          "data": {
            "text/plain": [
              "(21653, 200)"
            ]
          },
          "metadata": {},
          "execution_count": 22
        }
      ]
    },
    {
      "cell_type": "markdown",
      "source": [
        "#### 5.1.2. Истинно позитивный набор ссылок"
      ],
      "metadata": {
        "id": "7KJsFMyoOm3m"
      }
    },
    {
      "cell_type": "markdown",
      "source": [
        "Теперь разбираемся с истинно позитивным набором ссылок:   \n",
        "* фильтруем те узлы, которые точно присутствуют в графе без истинно позитивного тестового набора;\n",
        "* собираем векторы для первого гена\n",
        "* собираем векторы для второго гена\n",
        "* объединяем их, чтобы получить матрицу размерности (N, 100)"
      ],
      "metadata": {
        "id": "YFvO5J7t5KzO"
      }
    },
    {
      "cell_type": "code",
      "source": [
        "filter_b_1 = [\n",
        "    (edges.iloc[a][\"Gene ID 1\"] in no_one_nodes) and (edges.iloc[a][\"Gene ID 2\"] in no_one_nodes)\n",
        "    for a in np.arange(edges.shape[0])\n",
        "]\n",
        "true_one = edges[filter_b_1]"
      ],
      "metadata": {
        "id": "Ennt2ZKZVzVI"
      },
      "execution_count": 23,
      "outputs": []
    },
    {
      "cell_type": "code",
      "source": [
        "G1_1 = np.stack([model.wv[str(true_one.iloc[a][\"Gene ID 1\"])] for a in np.arange(true_one.shape[0])])\n",
        "G2_1 = np.stack([model.wv[str(true_one.iloc[a][\"Gene ID 2\"])] for a in np.arange(true_one.shape[0])])\n",
        "G1G2_1 = np.concatenate([G1_1, G2_1], 1)\n",
        "\n",
        "G1G2_1.shape"
      ],
      "metadata": {
        "colab": {
          "base_uri": "https://localhost:8080/"
        },
        "id": "Emazc6J4WTOU",
        "outputId": "06fc7e59-ec2b-40bc-f3fd-cacc0f1fa62b"
      },
      "execution_count": 24,
      "outputs": [
        {
          "output_type": "execute_result",
          "data": {
            "text/plain": [
              "(342352, 200)"
            ]
          },
          "metadata": {},
          "execution_count": 24
        }
      ]
    },
    {
      "cell_type": "code",
      "source": [
        "G1G2 = np.concatenate([G1G2_1, G1G2_0], 0)\n",
        "labels = np.array([1] * len(G1G2_1) + [0] * len(G1G2_0))\n",
        "\n",
        "train_ix, test_ix = train_test_split(np.arange(G1G2.shape[0]), stratify=labels)"
      ],
      "metadata": {
        "id": "X7tOCC_NWyck"
      },
      "execution_count": 25,
      "outputs": []
    },
    {
      "cell_type": "markdown",
      "source": [
        "### 5.2. Обучаем LGBMClassifier"
      ],
      "metadata": {
        "id": "FHIM9dgXv6wL"
      }
    },
    {
      "cell_type": "code",
      "source": [
        "lgb = LGBMClassifier()\n",
        "lgb.fit(G1G2[train_ix], labels[train_ix])\n",
        "\n",
        "y_hat_p = lgb.predict_proba(G1G2[test_ix])\n",
        "y_hat = lgb.predict(G1G2[test_ix])"
      ],
      "metadata": {
        "id": "10oVT52-mNyh"
      },
      "execution_count": 26,
      "outputs": []
    },
    {
      "cell_type": "markdown",
      "source": [
        "###  5.3. Считаем метрики"
      ],
      "metadata": {
        "id": "5DLCmH0Dvzhv"
      }
    },
    {
      "cell_type": "code",
      "source": [
        "accuracy_score(y_pred=y_hat, y_true=labels[test_ix])"
      ],
      "metadata": {
        "colab": {
          "base_uri": "https://localhost:8080/"
        },
        "id": "SbCnmIiNXOd2",
        "outputId": "9d4a7581-de54-48cb-a77d-54a525c1357c"
      },
      "execution_count": 27,
      "outputs": [
        {
          "output_type": "execute_result",
          "data": {
            "text/plain": [
              "0.9658359156941606"
            ]
          },
          "metadata": {},
          "execution_count": 27
        }
      ]
    },
    {
      "cell_type": "code",
      "source": [
        "roc_auc_score(y_score=y_hat, y_true=labels[test_ix])"
      ],
      "metadata": {
        "colab": {
          "base_uri": "https://localhost:8080/"
        },
        "id": "QTuslVseXPCx",
        "outputId": "27789b06-cf3b-457a-a488-41a39e44972d"
      },
      "execution_count": 28,
      "outputs": [
        {
          "output_type": "execute_result",
          "data": {
            "text/plain": [
              "0.750374289388805"
            ]
          },
          "metadata": {},
          "execution_count": 28
        }
      ]
    },
    {
      "cell_type": "code",
      "source": [
        "matthews_corrcoef(y_pred=y_hat, y_true=labels[test_ix])"
      ],
      "metadata": {
        "colab": {
          "base_uri": "https://localhost:8080/"
        },
        "id": "COWP6egaXSth",
        "outputId": "a899ec0e-8ea3-4ac8-fa90-076aa667b115"
      },
      "execution_count": 29,
      "outputs": [
        {
          "output_type": "execute_result",
          "data": {
            "text/plain": [
              "0.6457429662346784"
            ]
          },
          "metadata": {},
          "execution_count": 29
        }
      ]
    },
    {
      "cell_type": "code",
      "source": [
        "f1_score(y_pred=y_hat, y_true=labels[test_ix])"
      ],
      "metadata": {
        "colab": {
          "base_uri": "https://localhost:8080/"
        },
        "id": "y9z_XFcQXVo8",
        "outputId": "2c402517-0ef7-4fd8-a0dd-329403bb3c12"
      },
      "execution_count": 30,
      "outputs": [
        {
          "output_type": "execute_result",
          "data": {
            "text/plain": [
              "0.9820723219485753"
            ]
          },
          "metadata": {},
          "execution_count": 30
        }
      ]
    }
  ]
}